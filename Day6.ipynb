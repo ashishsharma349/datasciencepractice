{
 "cells": [
  {
   "cell_type": "markdown",
   "id": "f6dc9bc1",
   "metadata": {},
   "source": [
    "Conceptual Question\n",
    "Imagine you have a dataset where Feature A is in the range [0, 1] and Feature B is in the range [0, 1000].\n",
    "If you apply KNN without scaling, which feature will dominate the distance calculation, and why?\n",
    "\n",
    "Task:\n",
    "Load the Iris dataset from sklearn.datasets.\n",
    "Split into train (80%) and test (20%).\n",
    "Implement KNN from scratch (no KNeighborsClassifier from sklearn).\n",
    "Compare the accuracy of your custom KNN vs. sklearn’s implementation.\n",
    "Requirements:\n",
    "Use Euclidean distance.\n",
    "Allow K to be a variable (test with K=3 and K=7).\n",
    "Apply MinMax scaling before fitting."
   ]
  },
  {
   "cell_type": "markdown",
   "id": "5c4cfaf9",
   "metadata": {},
   "source": [
    "answer: feature B will dominate the distance calculation as its values lies in the greater range of values 1 to 1000 as compared to feature A with range 1 to 100. for eg d=sqrt[(5-900)^square+(6-850)^square] where second part dominates."
   ]
  },
  {
   "cell_type": "code",
   "execution_count": 2,
   "id": "ab8525ac",
   "metadata": {},
   "outputs": [],
   "source": [
    "#task\n",
    "from sklearn.datasets import make_hastie_10_2"
   ]
  },
  {
   "cell_type": "code",
   "execution_count": 3,
   "id": "27cdd92b",
   "metadata": {},
   "outputs": [],
   "source": [
    "data=make_hastie_10_2()"
   ]
  },
  {
   "cell_type": "code",
   "execution_count": 4,
   "id": "189b604a",
   "metadata": {},
   "outputs": [],
   "source": [
    "from sklearn.model_selection import train_test_split\n",
    "X_train,X_test,y_train,y_test=train_test_split(data[0],data[1],test_size=0.2,random_state=42)"
   ]
  },
  {
   "cell_type": "code",
   "execution_count": 5,
   "id": "cc2297c2",
   "metadata": {},
   "outputs": [
    {
     "name": "stdout",
     "output_type": "stream",
     "text": [
      "[[ 1.04125983  0.1182015   0.49192367 -0.60271209  0.65513467  2.61665591\n",
      "   0.69849697 -0.44735135  0.40464077 -0.87880971]\n",
      " [ 0.13499254 -0.02941141  0.24367046  2.63787959 -1.80991642  0.22188789\n",
      "  -0.45499824  0.42613929  0.67996983  0.9002238 ]\n",
      " [-0.19469802 -0.2517616   0.39410894  0.57770923 -1.45097751  0.24184298\n",
      "   0.16560285 -0.16619632  1.03051639 -0.00872029]\n",
      " [-0.27338286  0.92610936  0.49337828  0.23610116  0.32221339 -0.1167316\n",
      "  -0.72358519  0.17230023 -1.18633308 -1.72879135]\n",
      " [ 1.15264123  0.164449    0.32324547  0.16263876  0.47072687  0.20369518\n",
      "   0.56513807  0.79688944  0.85088842  1.19645762]]\n",
      "[ 1.  1. -1. -1. -1.]\n"
     ]
    }
   ],
   "source": [
    "print(data[0][:5])\n",
    "print(data[1][:5])"
   ]
  },
  {
   "cell_type": "code",
   "execution_count": 6,
   "id": "dbb89263",
   "metadata": {},
   "outputs": [],
   "source": [
    "#train data ha\n",
    "#new point ke liye prediction\n",
    "#calculate most near 5 points    \n",
    "#plan\n",
    "#train_function->stores data\n",
    "#predict_function-> \n",
    "#2D array to store distance + label\n",
    "#how pick i and for rest i:n store distance.\n",
    "#each point looks like [-0.65235744 -0.20006497  0.69426452 -0.15311525 -0.08686808 -0.827382341.04892022  0.5670674  -0.20699031  0.38833944]\n",
    "#sort most near five add and return prediction"
   ]
  },
  {
   "cell_type": "code",
   "execution_count": 7,
   "id": "cf15f774",
   "metadata": {},
   "outputs": [
    {
     "data": {
      "text/plain": [
       "0.0"
      ]
     },
     "execution_count": 7,
     "metadata": {},
     "output_type": "execute_result"
    }
   ],
   "source": [
    "s=data[0][0]\n",
    "p=data[0][0]\n",
    "import numpy as np\n",
    "import math\n",
    "def euclidean_distance(s,d):\n",
    "     return np.sqrt(sum([math.pow(a-b,2) for a, b in zip(s, d)])) \n",
    "euclidean_distance(s,p)"
   ]
  },
  {
   "cell_type": "code",
   "execution_count": null,
   "id": "9ad669b3",
   "metadata": {},
   "outputs": [],
   "source": [
    "class KNN:\n",
    "    def train_model(self,X_train,y_train):\n",
    "        self.X_train=X_train\n",
    "        self.y_train=y_train\n",
    "        print(\"model trained successfully\")\n",
    "        \n",
    "    def predict(self,point,n_neighbour):\n",
    "        array=[]\n",
    "        for idx,x in enumerate(self.X_train):\n",
    "            ds=euclidean_distance(point,x)\n",
    "            label=self.y_train[idx]\n",
    "            array.append([ds,label])\n",
    "        array.sort(key=lambda x:x[0])\n",
    "        #sort function sort the original list and return none \n",
    "        neighbours = [label for _, label in array[:n_neighbour]]#by convention, developers use _ to mean: “This variable exists, but I don’t care about it.\n",
    "        prediction = max(set(neighbours), key=neighbours.count)\n",
    "        return prediction\n",
    "        "
   ]
  },
  {
   "cell_type": "code",
   "execution_count": 31,
   "id": "a5496d78",
   "metadata": {},
   "outputs": [
    {
     "name": "stdout",
     "output_type": "stream",
     "text": [
      "model trained successfully\n"
     ]
    },
    {
     "data": {
      "text/plain": [
       "-1.0"
      ]
     },
     "execution_count": 31,
     "metadata": {},
     "output_type": "execute_result"
    }
   ],
   "source": [
    "obj=KNN()\n",
    "obj.train_model(X_train,y_train)\n",
    "obj.predict(X_train[0],3)"
   ]
  },
  {
   "cell_type": "code",
   "execution_count": 37,
   "id": "194f711e",
   "metadata": {},
   "outputs": [
    {
     "data": {
      "text/plain": [
       "array([-1.])"
      ]
     },
     "execution_count": 37,
     "metadata": {},
     "output_type": "execute_result"
    }
   ],
   "source": [
    "from sklearn.neighbors import KNeighborsClassifier\n",
    "model=KNeighborsClassifier(n_neighbors=3)\n",
    "model.fit(X_train,y_train)\n",
    "model.predict([X_train[0]])"
   ]
  },
  {
   "cell_type": "code",
   "execution_count": null,
   "id": "01902194",
   "metadata": {},
   "outputs": [],
   "source": []
  }
 ],
 "metadata": {
  "kernelspec": {
   "display_name": "Python 3",
   "language": "python",
   "name": "python3"
  },
  "language_info": {
   "codemirror_mode": {
    "name": "ipython",
    "version": 3
   },
   "file_extension": ".py",
   "mimetype": "text/x-python",
   "name": "python",
   "nbconvert_exporter": "python",
   "pygments_lexer": "ipython3",
   "version": "3.10.10"
  }
 },
 "nbformat": 4,
 "nbformat_minor": 5
}
